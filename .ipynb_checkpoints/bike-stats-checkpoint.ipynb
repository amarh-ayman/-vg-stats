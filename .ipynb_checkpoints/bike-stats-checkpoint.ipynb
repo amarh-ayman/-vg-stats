{
 "cells": [
  {
   "cell_type": "markdown",
   "id": "08d35b54-a52d-4c3d-ad42-fd044675d497",
   "metadata": {},
   "source": [
    "# Bike Stats"
   ]
  },
  {
   "cell_type": "code",
   "execution_count": 2,
   "id": "f4a40bcc-04a7-4711-b227-7decee2caa94",
   "metadata": {},
   "outputs": [],
   "source": [
    "import pandas as pd\n",
    "import numpy as np\n",
    "from datetime import date"
   ]
  },
  {
   "cell_type": "code",
   "execution_count": 3,
   "id": "c81dac3b-b776-49ba-9223-00fd69d2bb51",
   "metadata": {},
   "outputs": [
    {
     "name": "stderr",
     "output_type": "stream",
     "text": [
      "b'Skipping line 50794: expected 12 fields, saw 20\\n'\n"
     ]
    }
   ],
   "source": [
    "df_station=pd.read_csv('./station.csv')\n",
    "df_weather=pd.read_csv('./weather.csv')\n",
    "df_trip=pd.read_csv('./trip.csv', error_bad_lines=False)"
   ]
  },
  {
   "cell_type": "markdown",
   "id": "a2c8ed59-5d34-46e8-933c-0422b8841b4c",
   "metadata": {},
   "source": [
    "## 1.What is the average trip duration for a borrowed bicycle?"
   ]
  },
  {
   "cell_type": "code",
   "execution_count": 4,
   "id": "0c9a7224-2316-4ab6-a9c7-2cd9ba174248",
   "metadata": {},
   "outputs": [
    {
     "data": {
      "text/plain": [
       "1178.2956753399776"
      ]
     },
     "execution_count": 4,
     "metadata": {},
     "output_type": "execute_result"
    }
   ],
   "source": [
    "df_trip.tripduration.mean()"
   ]
  },
  {
   "cell_type": "markdown",
   "id": "349af804-af56-48f2-8e62-398bdb611eb8",
   "metadata": {},
   "source": [
    "## 2.What’s the most common age of a bicycle-sharer?"
   ]
  },
  {
   "cell_type": "code",
   "execution_count": 5,
   "id": "0d8993f2-420e-4406-afe9-97b1924c68ed",
   "metadata": {},
   "outputs": [
    {
     "data": {
      "text/plain": [
       "34.0"
      ]
     },
     "execution_count": 5,
     "metadata": {},
     "output_type": "execute_result"
    }
   ],
   "source": [
    "date.today().year-df_trip.birthyear.mode()[0]"
   ]
  },
  {
   "cell_type": "markdown",
   "id": "31d2e5c7-7474-4c8d-accf-caec1270e3f9",
   "metadata": {},
   "source": [
    "## 3.Given all the weather data here, find the average precipitation per month, and the median precipitation."
   ]
  },
  {
   "cell_type": "code",
   "execution_count": 6,
   "id": "522b51c2-0e29-4e61-b5dc-5ddfcf53f64d",
   "metadata": {},
   "outputs": [
    {
     "data": {
      "text/plain": [
       "0.10506531204644412"
      ]
     },
     "execution_count": 6,
     "metadata": {},
     "output_type": "execute_result"
    }
   ],
   "source": [
    "df_weather.Precipitation_In.mean()"
   ]
  },
  {
   "cell_type": "code",
   "execution_count": 7,
   "id": "cf1e7d66-047b-472a-a68d-53d5fea31161",
   "metadata": {},
   "outputs": [
    {
     "data": {
      "text/plain": [
       "0.0"
      ]
     },
     "execution_count": 7,
     "metadata": {},
     "output_type": "execute_result"
    }
   ],
   "source": [
    "df_weather.Precipitation_In.median()"
   ]
  },
  {
   "cell_type": "markdown",
   "id": "5bcfa86c-3058-4583-8eb8-690cea4ac221",
   "metadata": {},
   "source": [
    "## 4.What’s the average number of bikes at a given bike station?"
   ]
  },
  {
   "cell_type": "code",
   "execution_count": 12,
   "id": "36a89bf2-5106-4014-b0af-7448ed832cb0",
   "metadata": {},
   "outputs": [
    {
     "data": {
      "text/plain": [
       "17.74074074074074"
      ]
     },
     "execution_count": 12,
     "metadata": {},
     "output_type": "execute_result"
    }
   ],
   "source": [
    "df_station[df_station['current_dockcount']!=0].current_dockcount.mean()"
   ]
  },
  {
   "cell_type": "markdown",
   "id": "5542e457-2c51-4620-b0d3-591654d70315",
   "metadata": {},
   "source": [
    "## 5.When a bike station is modified, is it more likely that it’ll lose bikes or gain bikes? How do you know?"
   ]
  },
  {
   "cell_type": "code",
   "execution_count": 29,
   "id": "01e32c41-34de-4c4e-9688-4bd386a50430",
   "metadata": {},
   "outputs": [
    {
     "data": {
      "text/plain": [
       "install_dockcount    17.529412\n",
       "current_dockcount    13.764706\n",
       "dtype: float64"
      ]
     },
     "execution_count": 29,
     "metadata": {},
     "output_type": "execute_result"
    }
   ],
   "source": [
    "modified=df_station[['install_dockcount' ,'current_dockcount','modification_date']].dropna() ##to remove the NaN\n",
    "modified.mean()"
   ]
  },
  {
   "cell_type": "markdown",
   "id": "cdeeaacf-6a59-4a42-989c-e4d06ca6f0a1",
   "metadata": {},
   "source": [
    "### - the install_dockcount average alomost near to current_dockcount average ,so they gain bikes"
   ]
  },
  {
   "cell_type": "markdown",
   "id": "82cb43c4-08e8-4ef6-b599-6c0883a56300",
   "metadata": {},
   "source": [
    "## 6.Come up with 3 more questions that can be answered with this data set."
   ]
  },
  {
   "cell_type": "code",
   "execution_count": null,
   "id": "5352767b-44f9-479e-a88c-c10baa1bd97e",
   "metadata": {},
   "outputs": [],
   "source": []
  },
  {
   "cell_type": "code",
   "execution_count": null,
   "id": "05d1f1f4-0be2-46bf-92f0-ade30d1074f6",
   "metadata": {},
   "outputs": [],
   "source": []
  },
  {
   "cell_type": "code",
   "execution_count": null,
   "id": "32df324f-781e-44a2-85a4-f581e5ec4a74",
   "metadata": {},
   "outputs": [],
   "source": []
  },
  {
   "cell_type": "code",
   "execution_count": null,
   "id": "7a7d6455-3a22-4cba-b62c-35a53f116628",
   "metadata": {},
   "outputs": [],
   "source": []
  },
  {
   "cell_type": "code",
   "execution_count": null,
   "id": "ea0d3212-e74d-4ffe-a8ed-dce04e447501",
   "metadata": {},
   "outputs": [],
   "source": []
  }
 ],
 "metadata": {
  "kernelspec": {
   "display_name": "Python 3",
   "language": "python",
   "name": "python3"
  },
  "language_info": {
   "codemirror_mode": {
    "name": "ipython",
    "version": 3
   },
   "file_extension": ".py",
   "mimetype": "text/x-python",
   "name": "python",
   "nbconvert_exporter": "python",
   "pygments_lexer": "ipython3",
   "version": "3.9.4"
  }
 },
 "nbformat": 4,
 "nbformat_minor": 5
}
